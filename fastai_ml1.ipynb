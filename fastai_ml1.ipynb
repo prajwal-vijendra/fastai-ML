{
  "nbformat": 4,
  "nbformat_minor": 0,
  "metadata": {
    "colab": {
      "name": "fastai_ml1.ipynb",
      "version": "0.3.2",
      "views": {},
      "default_view": {},
      "provenance": [],
      "collapsed_sections": []
    },
    "kernelspec": {
      "name": "python3",
      "display_name": "Python 3"
    },
    "accelerator": "GPU"
  },
  "cells": [
    {
      "metadata": {
        "id": "lNB7LWicDuPO",
        "colab_type": "code",
        "colab": {
          "autoexec": {
            "startup": false,
            "wait_interval": 0
          }
        }
      },
      "cell_type": "code",
      "source": [
        "\n",
        "\n",
        "%load_ext autoreload\n",
        "%autoreload 2\n",
        "\n",
        "%matplotlib inline\n",
        "\n"
      ],
      "execution_count": 0,
      "outputs": []
    },
    {
      "metadata": {
        "id": "nIFhm1pXEPOs",
        "colab_type": "code",
        "colab": {
          "autoexec": {
            "startup": false,
            "wait_interval": 0
          }
        }
      },
      "cell_type": "code",
      "source": [
        "# http://pytorch.org/\n",
        "from os import path\n",
        "from wheel.pep425tags import get_abbr_impl, get_impl_ver, get_abi_tag\n",
        "platform = '{}{}-{}'.format(get_abbr_impl(), get_impl_ver(), get_abi_tag())\n",
        "\n",
        "accelerator = 'cu80' if path.exists('/opt/bin/nvidia-smi') else 'cpu'\n",
        "\n",
        "!pip install -q http://download.pytorch.org/whl/{accelerator}/torch-0.3.0.post4-{platform}-linux_x86_64.whl torchvision\n",
        "import torch"
      ],
      "execution_count": 0,
      "outputs": []
    },
    {
      "metadata": {
        "id": "pFdiDgHWEiKC",
        "colab_type": "code",
        "colab": {
          "autoexec": {
            "startup": false,
            "wait_interval": 0
          },
          "output_extras": [
            {
              "item_id": 4
            }
          ],
          "base_uri": "https://localhost:8080/",
          "height": 303
        },
        "outputId": "4b4410cc-4617-4c1e-8b44-ef65aabbed59",
        "executionInfo": {
          "status": "ok",
          "timestamp": 1518255390953,
          "user_tz": -330,
          "elapsed": 3023,
          "user": {
            "displayName": "Prajwal V",
            "photoUrl": "https://lh3.googleusercontent.com/a/default-user=s128",
            "userId": "108505317259898107905"
          }
        }
      },
      "cell_type": "code",
      "source": [
        "!pip install torchvision"
      ],
      "execution_count": 1,
      "outputs": [
        {
          "output_type": "stream",
          "text": [
            "Collecting torchvision\n",
            "  Downloading torchvision-0.2.0-py2.py3-none-any.whl (48kB)\n",
            "\u001b[K    100% |████████████████████████████████| 51kB 1.8MB/s \n",
            "\u001b[?25hCollecting torch (from torchvision)\n",
            "  Downloading torch-0.1.2.post1.tar.gz\n",
            "    Complete output from command python setup.py egg_info:\n",
            "    Traceback (most recent call last):\n",
            "      File \"<string>\", line 1, in <module>\n",
            "      File \"/tmp/pip-build-ksio3ybk/torch/setup.py\", line 11, in <module>\n",
            "        raise RuntimeError(README)\n",
            "    RuntimeError: PyTorch does not currently provide packages for PyPI (see status at https://github.com/pytorch/pytorch/issues/566).\n",
            "    \n",
            "    Please follow the instructions at http://pytorch.org/ to install with miniconda instead.\n",
            "    \n",
            "    \n",
            "    ----------------------------------------\n",
            "\u001b[31mCommand \"python setup.py egg_info\" failed with error code 1 in /tmp/pip-build-ksio3ybk/torch/\u001b[0m\n"
          ],
          "name": "stdout"
        }
      ]
    },
    {
      "metadata": {
        "id": "htka_HsBEvAP",
        "colab_type": "code",
        "colab": {
          "autoexec": {
            "startup": false,
            "wait_interval": 0
          },
          "output_extras": [
            {
              "item_id": 21
            },
            {
              "item_id": 38
            },
            {
              "item_id": 61
            },
            {
              "item_id": 120
            },
            {
              "item_id": 122
            }
          ],
          "base_uri": "https://localhost:8080/",
          "height": 3330
        },
        "outputId": "703d8794-b42a-41ef-df51-9c3c866d2308",
        "executionInfo": {
          "status": "ok",
          "timestamp": 1518255639523,
          "user_tz": -330,
          "elapsed": 220347,
          "user": {
            "displayName": "Prajwal V",
            "photoUrl": "https://lh3.googleusercontent.com/a/default-user=s128",
            "userId": "108505317259898107905"
          }
        }
      },
      "cell_type": "code",
      "source": [
        "!pip install fastai"
      ],
      "execution_count": 2,
      "outputs": [
        {
          "output_type": "stream",
          "text": [
            "Collecting fastai\n",
            "  Downloading fastai-0.6.tar.gz (429kB)\n",
            "\u001b[K    100% |████████████████████████████████| 430kB 2.2MB/s \n",
            "\u001b[?25hRequirement already satisfied: Jinja2 in /usr/local/lib/python3.6/dist-packages (from fastai)\n",
            "Requirement already satisfied: MarkupSafe in /usr/local/lib/python3.6/dist-packages (from fastai)\n",
            "Requirement already satisfied: Pillow in /usr/local/lib/python3.6/dist-packages (from fastai)\n",
            "Requirement already satisfied: PyYAML in /usr/local/lib/python3.6/dist-packages (from fastai)\n",
            "Requirement already satisfied: Pygments in /usr/local/lib/python3.6/dist-packages (from fastai)\n",
            "Collecting awscli (from fastai)\n",
            "  Downloading awscli-1.14.36-py2.py3-none-any.whl (1.2MB)\n",
            "\u001b[K    100% |████████████████████████████████| 1.2MB 994kB/s \n",
            "\u001b[?25hCollecting bcolz (from fastai)\n",
            "  Downloading bcolz-1.1.2.tar.gz (1.3MB)\n",
            "\u001b[K    100% |████████████████████████████████| 1.3MB 1.0MB/s \n",
            "\u001b[?25hRequirement already satisfied: bleach in /usr/local/lib/python3.6/dist-packages (from fastai)\n",
            "Requirement already satisfied: certifi in /usr/local/lib/python3.6/dist-packages (from fastai)\n",
            "Requirement already satisfied: cycler in /usr/local/lib/python3.6/dist-packages (from fastai)\n",
            "Requirement already satisfied: decorator in /usr/local/lib/python3.6/dist-packages (from fastai)\n",
            "Requirement already satisfied: entrypoints in /usr/local/lib/python3.6/dist-packages (from fastai)\n",
            "Collecting feather-format (from fastai)\n",
            "  Downloading feather-format-0.4.0.tar.gz\n",
            "Collecting graphviz (from fastai)\n",
            "  Downloading graphviz-0.8.2-py2.py3-none-any.whl\n",
            "Requirement already satisfied: html5lib in /usr/local/lib/python3.6/dist-packages (from fastai)\n",
            "Requirement already satisfied: ipykernel in /usr/local/lib/python3.6/dist-packages (from fastai)\n",
            "Requirement already satisfied: ipython in /usr/local/lib/python3.6/dist-packages (from fastai)\n",
            "Requirement already satisfied: ipython-genutils in /usr/local/lib/python3.6/dist-packages (from fastai)\n",
            "Collecting ipywidgets (from fastai)\n",
            "  Downloading ipywidgets-7.1.1-py2.py3-none-any.whl (68kB)\n",
            "\u001b[K    100% |████████████████████████████████| 71kB 7.5MB/s \n",
            "\u001b[?25hCollecting isoweek (from fastai)\n",
            "  Downloading isoweek-1.3.3-py2.py3-none-any.whl\n",
            "Collecting jedi (from fastai)\n",
            "  Downloading jedi-0.11.1-py2.py3-none-any.whl (250kB)\n",
            "\u001b[K    100% |████████████████████████████████| 256kB 4.2MB/s \n",
            "\u001b[?25hRequirement already satisfied: jsonschema in /usr/local/lib/python3.6/dist-packages (from fastai)\n",
            "Collecting jupyter (from fastai)\n",
            "  Downloading jupyter-1.0.0-py2.py3-none-any.whl\n",
            "Requirement already satisfied: jupyter-client in /usr/local/lib/python3.6/dist-packages (from fastai)\n",
            "Collecting jupyter-console (from fastai)\n",
            "  Downloading jupyter_console-5.2.0-py2.py3-none-any.whl\n",
            "Requirement already satisfied: jupyter-core in /usr/local/lib/python3.6/dist-packages (from fastai)\n",
            "Collecting jupyter_contrib_nbextensions (from fastai)\n",
            "  Downloading jupyter_contrib_nbextensions-0.4.0-py2.py3-none-any.whl (20.8MB)\n",
            "\u001b[K    100% |████████████████████████████████| 20.8MB 65kB/s \n",
            "\u001b[?25hCollecting kaggle-cli (from fastai)\n",
            "  Downloading kaggle-cli-0.12.13.tar.gz\n",
            "Requirement already satisfied: matplotlib in /usr/local/lib/python3.6/dist-packages (from fastai)\n",
            "Requirement already satisfied: mistune in /usr/local/lib/python3.6/dist-packages (from fastai)\n",
            "Requirement already satisfied: nbconvert in /usr/local/lib/python3.6/dist-packages (from fastai)\n",
            "Requirement already satisfied: nbformat in /usr/local/lib/python3.6/dist-packages (from fastai)\n"
          ],
          "name": "stdout"
        },
        {
          "output_type": "stream",
          "text": [
            "Requirement already satisfied: notebook in /usr/local/lib/python3.6/dist-packages (from fastai)\r\n",
            "Requirement already satisfied: numpy in /usr/local/lib/python3.6/dist-packages (from fastai)\r\n",
            "Requirement already satisfied: olefile in /usr/local/lib/python3.6/dist-packages (from fastai)\n",
            "Collecting opencv-python (from fastai)\n",
            "  Downloading opencv_python-3.4.0.12-cp36-cp36m-manylinux1_x86_64.whl (24.9MB)\n",
            "\u001b[K    100% |████████████████████████████████| 24.9MB 55kB/s \n",
            "\u001b[?25hRequirement already satisfied: pandas in /usr/local/lib/python3.6/dist-packages (from fastai)\n",
            "Collecting pandas_summary (from fastai)\n",
            "  Downloading pandas-summary-0.0.41.tar.gz\n",
            "Requirement already satisfied: pandocfilters in /usr/local/lib/python3.6/dist-packages (from fastai)\n",
            "Requirement already satisfied: pexpect in /usr/local/lib/python3.6/dist-packages (from fastai)\n",
            "Requirement already satisfied: pickleshare in /usr/local/lib/python3.6/dist-packages (from fastai)\n",
            "Collecting plotnine (from fastai)\n",
            "  Downloading plotnine-0.3.0-py2.py3-none-any.whl (3.4MB)\n",
            "\u001b[K    100% |████████████████████████████████| 3.4MB 389kB/s \n",
            "\u001b[?25hRequirement already satisfied: prompt-toolkit in /usr/local/lib/python3.6/dist-packages (from fastai)\n",
            "Requirement already satisfied: ptyprocess in /usr/local/lib/python3.6/dist-packages (from fastai)\n",
            "Requirement already satisfied: pyparsing in /usr/local/lib/python3.6/dist-packages (from fastai)\n",
            "Requirement already satisfied: python-dateutil in /usr/local/lib/python3.6/dist-packages (from fastai)\n",
            "Requirement already satisfied: pytz in /usr/local/lib/python3.6/dist-packages (from fastai)\n",
            "Requirement already satisfied: pyzmq in /usr/local/lib/python3.6/dist-packages (from fastai)\n",
            "Collecting qtconsole (from fastai)\n",
            "  Downloading qtconsole-4.3.1-py2.py3-none-any.whl (108kB)\n",
            "\u001b[K    100% |████████████████████████████████| 112kB 7.6MB/s \n",
            "\u001b[?25hRequirement already satisfied: scipy in /usr/local/lib/python3.6/dist-packages (from fastai)\n",
            "Requirement already satisfied: seaborn in /usr/local/lib/python3.6/dist-packages (from fastai)\n",
            "Requirement already satisfied: simplegeneric in /usr/local/lib/python3.6/dist-packages (from fastai)\n",
            "Requirement already satisfied: six in /usr/local/lib/python3.6/dist-packages (from fastai)\n",
            "Collecting sklearn_pandas (from fastai)\n",
            "  Downloading sklearn_pandas-1.6.0-py2.py3-none-any.whl\n",
            "Requirement already satisfied: terminado in /usr/local/lib/python3.6/dist-packages (from fastai)\n",
            "Requirement already satisfied: testpath in /usr/local/lib/python3.6/dist-packages (from fastai)\n",
            "Collecting torchtext (from fastai)\n",
            "  Downloading torchtext-0.2.1-py3-none-any.whl (41kB)\n",
            "\u001b[K    100% |████████████████████████████████| 51kB 10.7MB/s \n",
            "\u001b[?25hRequirement already satisfied: tornado in /usr/local/lib/python3.6/dist-packages (from fastai)\n",
            "Collecting tqdm (from fastai)\n",
            "  Downloading tqdm-4.19.5-py2.py3-none-any.whl (51kB)\n",
            "\u001b[K    100% |████████████████████████████████| 61kB 10.1MB/s \n",
            "\u001b[?25hRequirement already satisfied: traitlets in /usr/local/lib/python3.6/dist-packages (from fastai)\n",
            "Requirement already satisfied: wcwidth in /usr/local/lib/python3.6/dist-packages (from fastai)\n",
            "Requirement already satisfied: webencodings in /usr/local/lib/python3.6/dist-packages (from fastai)\n",
            "Collecting widgetsnbextension (from fastai)\n",
            "  Downloading widgetsnbextension-3.1.3-py2.py3-none-any.whl (2.2MB)\n",
            "\u001b[K    100% |████████████████████████████████| 2.2MB 624kB/s \n",
            "\u001b[?25hRequirement already satisfied: rsa<=3.5.0,>=3.1.2 in /usr/local/lib/python3.6/dist-packages (from awscli->fastai)\n",
            "Collecting docutils>=0.10 (from awscli->fastai)\n",
            "  Downloading docutils-0.14-py3-none-any.whl (543kB)\n",
            "\u001b[K    100% |████████████████████████████████| 552kB 2.5MB/s \n",
            "\u001b[?25hCollecting botocore==1.8.40 (from awscli->fastai)\n",
            "  Downloading botocore-1.8.40-py2.py3-none-any.whl (4.1MB)\n",
            "\u001b[K    100% |████████████████████████████████| 4.1MB 331kB/s \n",
            "\u001b[?25hCollecting s3transfer<0.2.0,>=0.1.12 (from awscli->fastai)\n"
          ],
          "name": "stdout"
        },
        {
          "output_type": "stream",
          "text": [
            "  Downloading s3transfer-0.1.12-py2.py3-none-any.whl (59kB)\r\n",
            "\u001b[K    100% |████████████████████████████████| 61kB 10.4MB/s \n",
            "\u001b[?25hCollecting colorama<=0.3.7,>=0.2.5 (from awscli->fastai)\n",
            "  Downloading colorama-0.3.7-py2.py3-none-any.whl\n",
            "Collecting pyarrow>=0.4.0 (from feather-format->fastai)\n",
            "  Downloading pyarrow-0.8.0-cp36-cp36m-manylinux1_x86_64.whl (6.9MB)\n",
            "\u001b[K    100% |████████████████████████████████| 6.9MB 195kB/s \n",
            "\u001b[?25hRequirement already satisfied: setuptools>=18.5 in /usr/lib/python3/dist-packages (from ipython->fastai)\n",
            "Collecting parso==0.1.1 (from jedi->fastai)\n",
            "  Downloading parso-0.1.1-py2.py3-none-any.whl (91kB)\n",
            "\u001b[K    100% |████████████████████████████████| 92kB 10.2MB/s \n",
            "\u001b[?25hCollecting jupyter-latex-envs>=1.3.8 (from jupyter_contrib_nbextensions->fastai)\n",
            "  Downloading jupyter_latex_envs-1.4.1.tar.gz (793kB)\n",
            "\u001b[K    100% |████████████████████████████████| 798kB 1.6MB/s \n",
            "\u001b[?25hCollecting jupyter-highlight-selected-word>=0.0.10 (from jupyter_contrib_nbextensions->fastai)\n",
            "  Downloading jupyter_highlight_selected_word-0.1.0-py2.py3-none-any.whl\n",
            "Collecting lxml (from jupyter_contrib_nbextensions->fastai)\n",
            "  Downloading lxml-4.1.1-cp36-cp36m-manylinux1_x86_64.whl (5.6MB)\n",
            "\u001b[K    100% |████████████████████████████████| 5.6MB 238kB/s \n",
            "\u001b[?25hCollecting jupyter-nbextensions-configurator>=0.4.0 (from jupyter_contrib_nbextensions->fastai)\n",
            "  Downloading jupyter_nbextensions_configurator-0.4.0-py2.py3-none-any.whl (466kB)\n",
            "\u001b[K    100% |████████████████████████████████| 471kB 2.6MB/s \n",
            "\u001b[?25hCollecting jupyter-contrib-core>=0.3.3 (from jupyter_contrib_nbextensions->fastai)\n",
            "  Downloading jupyter_contrib_core-0.3.3-py2.py3-none-any.whl\n",
            "Collecting MechanicalSoup<0.9,>=0.7.0 (from kaggle-cli->fastai)\n",
            "  Downloading MechanicalSoup-0.8.0-py2.py3-none-any.whl\n",
            "Requirement already satisfied: beautifulsoup4<4.7,>=4.6.0 in /usr/local/lib/python3.6/dist-packages (from kaggle-cli->fastai)\n",
            "Collecting cliff<2.9,>=2.8.0 (from kaggle-cli->fastai)\n",
            "  Downloading cliff-2.8.0.tar.gz (71kB)\n",
            "\u001b[K    100% |████████████████████████████████| 81kB 10.4MB/s \n",
            "\u001b[?25hCollecting configparser (from kaggle-cli->fastai)\n",
            "  Downloading configparser-3.5.0.tar.gz\n",
            "Collecting cssselect<1.1,>=1.0.1 (from kaggle-cli->fastai)\n",
            "  Downloading cssselect-1.0.3-py2.py3-none-any.whl\n",
            "Collecting progressbar2<3.35,>=3.34.3 (from kaggle-cli->fastai)\n",
            "  Downloading progressbar2-3.34.3-py2.py3-none-any.whl\n",
            "Collecting mizani>=0.4.1 (from plotnine->fastai)\n",
            "  Downloading mizani-0.4.4-py2.py3-none-any.whl (65kB)\n",
            "\u001b[K    100% |████████████████████████████████| 71kB 10.6MB/s \n",
            "\u001b[?25hRequirement already satisfied: patsy>=0.4.1 in /usr/local/lib/python3.6/dist-packages (from plotnine->fastai)\n",
            "Requirement already satisfied: statsmodels>=0.8.0 in /usr/local/lib/python3.6/dist-packages (from plotnine->fastai)\n",
            "Requirement already satisfied: scikit-learn>=0.15.0 in /usr/local/lib/python3.6/dist-packages (from sklearn_pandas->fastai)\n",
            "Requirement already satisfied: requests in /usr/local/lib/python3.6/dist-packages (from torchtext->fastai)\n",
            "Requirement already satisfied: pyasn1>=0.1.3 in /usr/local/lib/python3.6/dist-packages (from rsa<=3.5.0,>=3.1.2->awscli->fastai)\n",
            "Collecting jmespath<1.0.0,>=0.7.1 (from botocore==1.8.40->awscli->fastai)\n",
            "  Downloading jmespath-0.9.3-py2.py3-none-any.whl\n",
            "Collecting PrettyTable<0.8,>=0.7.1 (from cliff<2.9,>=2.8.0->kaggle-cli->fastai)\n",
            "  Downloading prettytable-0.7.2.zip\n",
            "Collecting cmd2>=0.6.7 (from cliff<2.9,>=2.8.0->kaggle-cli->fastai)\n",
            "  Downloading cmd2-0.8.0.tar.gz (75kB)\n",
            "\u001b[K    100% |████████████████████████████████| 81kB 9.6MB/s \n",
            "\u001b[?25hCollecting pbr!=2.1.0,>=2.0.0 (from cliff<2.9,>=2.8.0->kaggle-cli->fastai)\n",
            "  Downloading pbr-3.1.1-py2.py3-none-any.whl (99kB)\n",
            "\u001b[K    100% |████████████████████████████████| 102kB 7.0MB/s \n",
            "\u001b[?25hCollecting stevedore>=1.20.0 (from cliff<2.9,>=2.8.0->kaggle-cli->fastai)\n",
            "  Downloading stevedore-1.28.0-py2.py3-none-any.whl\n",
            "Collecting python-utils>=2.1.0 (from progressbar2<3.35,>=3.34.3->kaggle-cli->fastai)\n",
            "  Downloading python_utils-2.2.0-py2.py3-none-any.whl\n"
          ],
          "name": "stdout"
        },
        {
          "output_type": "stream",
          "text": [
            "Collecting palettable (from mizani>=0.4.1->plotnine->fastai)\n",
            "  Downloading palettable-3.1.0-py2.py3-none-any.whl (78kB)\n",
            "\u001b[K    100% |████████████████████████████████| 81kB 9.8MB/s \n",
            "\u001b[?25hRequirement already satisfied: urllib3<1.23,>=1.21.1 in /usr/local/lib/python3.6/dist-packages (from requests->torchtext->fastai)\n",
            "Requirement already satisfied: idna<2.7,>=2.5 in /usr/local/lib/python3.6/dist-packages (from requests->torchtext->fastai)\n",
            "Requirement already satisfied: chardet<3.1.0,>=3.0.2 in /usr/local/lib/python3.6/dist-packages (from requests->torchtext->fastai)\n",
            "Collecting pyperclip (from cmd2>=0.6.7->cliff<2.9,>=2.8.0->kaggle-cli->fastai)\n",
            "  Downloading pyperclip-1.6.0.tar.gz\n",
            "Building wheels for collected packages: fastai, bcolz, feather-format, kaggle-cli, pandas-summary, jupyter-latex-envs, cliff, configparser, PrettyTable, cmd2, pyperclip\n",
            "  Running setup.py bdist_wheel for fastai ... \u001b[?25l-\b \b\\\b \bdone\n",
            "\u001b[?25h  Stored in directory: /content/.cache/pip/wheels/13/6b/e1/1f1c38574e6abf3cfd747b345213ed1a4e2bf149646e16408d\n",
            "  Running setup.py bdist_wheel for bcolz ... \u001b[?25l-\b \b\\\b \b|\b \b/\b \b-\b \b\\\b \b|\b \b/\b \b-\b \b\\\b \b|\b \b/\b \b-\b \b\\\b \b|\b \b/\b \b-\b \b\\\b \b|\b \b/\b \b-\b \b\\\b \b|\b \b/\b \b-\b \b\\\b \b|\b \b/\b \b-\b \b\\\b \b|\b \b/\b \b-\b \b\\\b \b|\b \b/\b \b-\b \b\\\b \b|\b \b/\b \b-\b \b\\\b \b|\b \b/\b \b-\b \b\\\b \b|\b \bdone\n",
            "\u001b[?25h  Stored in directory: /content/.cache/pip/wheels/e9/84/eb/f8f3caa627bb01ebc96034c3411f59870951246e5873b3f4c7\n",
            "  Running setup.py bdist_wheel for feather-format ... \u001b[?25l-\b \bdone\n",
            "\u001b[?25h  Stored in directory: /content/.cache/pip/wheels/9d/de/23/0ca11012cc6b573de3f8187727cfa97a8392a8605e331214e5\n",
            "  Running setup.py bdist_wheel for kaggle-cli ... \u001b[?25l-\b \bdone\n",
            "\u001b[?25h  Stored in directory: /content/.cache/pip/wheels/f0/3c/ff/c98870eeb0ca26250ce6a60dc9be23f547b7ef68b3d6a1c0b5\n",
            "  Running setup.py bdist_wheel for pandas-summary ... \u001b[?25l-\b \bdone\n",
            "\u001b[?25h  Stored in directory: /content/.cache/pip/wheels/20/29/c9/b3d9f2cbdb6f1eeeb98e263ae687d72e8138a26de91058bd0b\n",
            "  Running setup.py bdist_wheel for jupyter-latex-envs ... \u001b[?25l-\b \b\\\b \bdone\n",
            "\u001b[?25h  Stored in directory: /content/.cache/pip/wheels/c4/6c/12/312460b777568482fbf308ab45154a573172ac33da9c91cf83\n",
            "  Running setup.py bdist_wheel for cliff ... \u001b[?25l-\b \bdone\n",
            "\u001b[?25h  Stored in directory: /content/.cache/pip/wheels/27/4c/aa/0f67aa384e67aacc5629321b1a3f85892362d4e9e5cd3a20f1\n",
            "  Running setup.py bdist_wheel for configparser ... \u001b[?25l-\b \bdone\n",
            "\u001b[?25h  Stored in directory: /content/.cache/pip/wheels/1c/bd/b4/277af3f6c40645661b4cd1c21df26aca0f2e1e9714a1d4cda8\n",
            "  Running setup.py bdist_wheel for PrettyTable ... \u001b[?25l-\b \bdone\n",
            "\u001b[?25h  Stored in directory: /content/.cache/pip/wheels/b6/90/7b/1c22b89217d0eba6d5f406e562365ebee804f0d4595b2bdbcd\n",
            "  Running setup.py bdist_wheel for cmd2 ... \u001b[?25l-\b \bdone\n",
            "\u001b[?25h  Stored in directory: /content/.cache/pip/wheels/53/53/30/dd00e07ff8d6107238799cc0af24fa6fea8a198d7fb945c2df\n"
          ],
          "name": "stdout"
        },
        {
          "output_type": "stream",
          "text": [
            "  Running setup.py bdist_wheel for pyperclip ... \u001b[?25l-\b \bdone\n",
            "\u001b[?25h  Stored in directory: /content/.cache/pip/wheels/a9/22/c3/8116911c3273f6aa0a90ce69c44fb8a6a0e139d79aeda5a73e\n",
            "Successfully built fastai bcolz feather-format kaggle-cli pandas-summary jupyter-latex-envs cliff configparser PrettyTable cmd2 pyperclip\n",
            "Installing collected packages: docutils, jmespath, botocore, s3transfer, colorama, awscli, bcolz, pyarrow, feather-format, graphviz, widgetsnbextension, ipywidgets, isoweek, parso, jedi, qtconsole, jupyter-console, jupyter, jupyter-latex-envs, jupyter-highlight-selected-word, lxml, jupyter-contrib-core, jupyter-nbextensions-configurator, jupyter-contrib-nbextensions, MechanicalSoup, PrettyTable, pyperclip, cmd2, pbr, stevedore, cliff, configparser, cssselect, python-utils, progressbar2, kaggle-cli, opencv-python, pandas-summary, palettable, mizani, plotnine, sklearn-pandas, tqdm, torchtext, fastai\n",
            "Successfully installed MechanicalSoup-0.8.0 PrettyTable-0.7.2 awscli-1.14.36 bcolz-1.1.2 botocore-1.8.40 cliff-2.8.0 cmd2-0.8.0 colorama-0.3.7 configparser-3.5.0 cssselect-1.0.3 docutils-0.14 fastai-0.6 feather-format-0.4.0 graphviz-0.8.2 ipywidgets-7.1.1 isoweek-1.3.3 jedi-0.11.1 jmespath-0.9.3 jupyter-1.0.0 jupyter-console-5.2.0 jupyter-contrib-core-0.3.3 jupyter-contrib-nbextensions-0.4.0 jupyter-highlight-selected-word-0.1.0 jupyter-latex-envs-1.4.1 jupyter-nbextensions-configurator-0.4.0 kaggle-cli-0.12.13 lxml-4.1.1 mizani-0.4.4 opencv-python-3.4.0.12 palettable-3.1.0 pandas-summary-0.0.41 parso-0.1.1 pbr-3.1.1 plotnine-0.3.0 progressbar2-3.34.3 pyarrow-0.8.0 pyperclip-1.6.0 python-utils-2.2.0 qtconsole-4.3.1 s3transfer-0.1.12 sklearn-pandas-1.6.0 stevedore-1.28.0 torchtext-0.2.1 tqdm-4.19.5 widgetsnbextension-3.1.3\n"
          ],
          "name": "stdout"
        }
      ]
    },
    {
      "metadata": {
        "id": "FetXJAmGN7Ub",
        "colab_type": "code",
        "colab": {
          "autoexec": {
            "startup": false,
            "wait_interval": 0
          },
          "output_extras": [
            {
              "item_id": 3
            }
          ],
          "base_uri": "https://localhost:8080/",
          "height": 387
        },
        "outputId": "d3afe88e-e62e-4160-faf9-5ee6d84fc450"
      },
      "cell_type": "code",
      "source": [
        "# https://opencv.org/\n",
        "!apt-get -qq install -y libsm6 libxext6 && pip install -q -U opencv-python\n",
        "import cv2"
      ],
      "execution_count": 0,
      "outputs": [
        {
          "output_type": "stream",
          "text": [
            "Selecting previously unselected package libxext6:amd64.\r\n",
            "(Reading database ... \r(Reading database ... 5%\r(Reading database ... 10%\r(Reading database ... 15%\r(Reading database ... 20%\r(Reading database ... 25%\r(Reading database ... 30%\r(Reading database ... 35%\r(Reading database ... 40%\r(Reading database ... 45%\r(Reading database ... 50%\r(Reading database ... 55%\r(Reading database ... 60%\r(Reading database ... 65%\r(Reading database ... 70%\r(Reading database ... 75%\r(Reading database ... 80%\r(Reading database ... 85%\r(Reading database ... 90%\r(Reading database ... 95%\r(Reading database ... 100%\r(Reading database ... 16633 files and directories currently installed.)\r\n",
            "Preparing to unpack .../libxext6_2%3a1.3.3-1_amd64.deb ...\r\n",
            "Unpacking libxext6:amd64 (2:1.3.3-1) ...\r\n",
            "Selecting previously unselected package x11-common.\r\n",
            "Preparing to unpack .../x11-common_1%3a7.7+19ubuntu3_all.deb ...\n",
            "Unpacking x11-common (1:7.7+19ubuntu3) ...\n",
            "Selecting previously unselected package libice6:amd64.\n",
            "Preparing to unpack .../libice6_2%3a1.0.9-2_amd64.deb ...\n",
            "Unpacking libice6:amd64 (2:1.0.9-2) ...\n",
            "Selecting previously unselected package libsm6:amd64.\n",
            "Preparing to unpack .../libsm6_2%3a1.2.2-1_amd64.deb ...\n",
            "Unpacking libsm6:amd64 (2:1.2.2-1) ...\n",
            "Setting up libxext6:amd64 (2:1.3.3-1) ...\n",
            "Processing triggers for libc-bin (2.26-0ubuntu2) ...\n",
            "Setting up x11-common (1:7.7+19ubuntu3) ...\n",
            "update-rc.d: warning: start and stop actions are no longer supported; falling back to defaults\n",
            "invoke-rc.d: could not determine current runlevel\n",
            "invoke-rc.d: policy-rc.d denied execution of start.\n",
            "Setting up libice6:amd64 (2:1.0.9-2) ...\n",
            "Setting up libsm6:amd64 (2:1.2.2-1) ...\n",
            "Processing triggers for libc-bin (2.26-0ubuntu2) ...\n"
          ],
          "name": "stdout"
        }
      ]
    },
    {
      "metadata": {
        "id": "B9JkRK2ED-IY",
        "colab_type": "code",
        "colab": {
          "autoexec": {
            "startup": false,
            "wait_interval": 0
          }
        }
      },
      "cell_type": "code",
      "source": [
        "from fastai.imports import *\n",
        "from fastai.structured import *\n",
        "\n",
        "from pandas_summary import DataFrameSummary\n",
        "from sklearn.ensemble import RandomForestRegressor, RandomForestClassifier\n",
        "from IPython.display import display\n",
        "\n",
        "from sklearn import metrics\n",
        "\n"
      ],
      "execution_count": 0,
      "outputs": []
    },
    {
      "metadata": {
        "id": "RaoXjxChEMRC",
        "colab_type": "code",
        "colab": {
          "autoexec": {
            "startup": false,
            "wait_interval": 0
          }
        }
      },
      "cell_type": "code",
      "source": [
        "PATH = \"./data\""
      ],
      "execution_count": 0,
      "outputs": []
    },
    {
      "metadata": {
        "id": "ZjwXQuXjZJst",
        "colab_type": "code",
        "colab": {
          "autoexec": {
            "startup": false,
            "wait_interval": 0
          }
        }
      },
      "cell_type": "code",
      "source": [
        "!mkdir data"
      ],
      "execution_count": 0,
      "outputs": []
    },
    {
      "metadata": {
        "id": "HCrnivgLlEl-",
        "colab_type": "code",
        "colab": {
          "autoexec": {
            "startup": false,
            "wait_interval": 0
          },
          "output_extras": [
            {
              "item_id": 2
            }
          ],
          "base_uri": "https://localhost:8080/",
          "height": 67
        },
        "outputId": "4f85ff01-0db7-44f4-8f29-472b8201e669",
        "executionInfo": {
          "status": "ok",
          "timestamp": 1518265679031,
          "user_tz": -330,
          "elapsed": 1181,
          "user": {
            "displayName": "Prajwal V",
            "photoUrl": "https://lh3.googleusercontent.com/a/default-user=s128",
            "userId": "108505317259898107905"
          }
        }
      },
      "cell_type": "code",
      "source": [
        "!curl \"https://storage.googleapis.com/kaggle-competitions-data/kaggle/3316/Train.7z?GoogleAccessId=web-data@kaggle-161607.iam.gserviceaccount.com&Expires=1518523239&Signature=IP3aw2s3\"%\"2BjDyccqhjQsfjwwBr79QM2KWVkSjeYWKPqo2GanoewnpbkFRVqOVZz0EFwJF\"%\"2B8BnV402IBbxK6crftGgg\"%\"2FpobZB1uU3bWCzmuKI5dFGugK9cs15yg5l2xu4rXUS0fiGbuVdw0LJ9gNSyCzLwYbllPHyjmZnjgohhO1oZEoq8Z0p6k\"%\"2FyMVZGRFDQyysXbyE7Ths8nz2OLWv\"%\"2FLFg9hdMo32zVzJUVFqnLzxIQ5JKhgdMQRIlhvCI0gCS44XBOR35O5JbG2jpy3yUPZf1\"%\"2Bdi6SH1PlyqqZ\"%\"2BLtZcV0UDRc0N0fkQeaDdvKEvh1bUVcTVDukwWIQX5vlRv7o3Rw\"%\"3D\"%\"3D\" -H \"Host: storage.googleapis.com\" -H \"User-Agent: Mozilla/5.0 (Windows NT 10.0; Win64; x64; rv:58.0) Gecko/20100101 Firefox/58.0\" -H \"Accept: text/html,application/xhtml+xml,application/xml;q=0.9,*/*;q=0.8\" -H \"Accept-Language: en-US,en;q=0.5\" --compressed -H \"Referer: https://www.kaggle.com/c/bluebook-for-bulldozers/data\" -H \"Connection: keep-alive\" -H \"Upgrade-Insecure-Requests: 1\" -o Train.7z"
      ],
      "execution_count": 51,
      "outputs": [
        {
          "output_type": "stream",
          "text": [
            "  % Total    % Received % Xferd  Average Speed   Time    Time     Time  Current\r\n",
            "                                 Dload  Upload   Total   Spent    Left  Speed\n",
            "100 7015k  100 7015k    0     0  7015k      0  0:00:01 --:--:--  0:00:01 46.6M\n"
          ],
          "name": "stdout"
        }
      ]
    },
    {
      "metadata": {
        "id": "Edj4edXQnVP4",
        "colab_type": "code",
        "colab": {
          "autoexec": {
            "startup": false,
            "wait_interval": 0
          },
          "output_extras": [
            {
              "item_id": 2
            }
          ],
          "base_uri": "https://localhost:8080/",
          "height": 269
        },
        "outputId": "b8d6aa2f-d514-4e35-d43d-82e37a025e03",
        "executionInfo": {
          "status": "ok",
          "timestamp": 1518265306046,
          "user_tz": -330,
          "elapsed": 7760,
          "user": {
            "displayName": "Prajwal V",
            "photoUrl": "https://lh3.googleusercontent.com/a/default-user=s128",
            "userId": "108505317259898107905"
          }
        }
      },
      "cell_type": "code",
      "source": [
        "# https://pypi.python.org/pypi/libarchive\n",
        "!apt-get -qq install -y libarchive-dev && pip install -q -U libarchive\n",
        "import libarchive"
      ],
      "execution_count": 43,
      "outputs": [
        {
          "output_type": "stream",
          "text": [
            "Selecting previously unselected package liblzo2-2:amd64.\n",
            "(Reading database ... 16676 files and directories currently installed.)\n",
            "Preparing to unpack .../liblzo2-2_2.08-1.2_amd64.deb ...\n",
            "Unpacking liblzo2-2:amd64 (2.08-1.2) ...\n",
            "Selecting previously unselected package libarchive13:amd64.\n",
            "Preparing to unpack .../libarchive13_3.2.2-3.1_amd64.deb ...\n",
            "Unpacking libarchive13:amd64 (3.2.2-3.1) ...\n",
            "Selecting previously unselected package libarchive-dev:amd64.\n",
            "Preparing to unpack .../libarchive-dev_3.2.2-3.1_amd64.deb ...\n",
            "Unpacking libarchive-dev:amd64 (3.2.2-3.1) ...\n",
            "Processing triggers for libc-bin (2.26-0ubuntu2) ...\n",
            "Setting up liblzo2-2:amd64 (2.08-1.2) ...\n",
            "Setting up libarchive13:amd64 (3.2.2-3.1) ...\n",
            "Setting up libarchive-dev:amd64 (3.2.2-3.1) ...\n",
            "Processing triggers for libc-bin (2.26-0ubuntu2) ...\n"
          ],
          "name": "stdout"
        }
      ]
    },
    {
      "metadata": {
        "id": "OoNqcNdusoir",
        "colab_type": "code",
        "colab": {
          "autoexec": {
            "startup": false,
            "wait_interval": 0
          },
          "output_extras": [
            {
              "item_id": 2
            }
          ],
          "base_uri": "https://localhost:8080/",
          "height": 67
        },
        "outputId": "64049587-4b24-4430-8f4a-1b7607b398da",
        "executionInfo": {
          "status": "ok",
          "timestamp": 1518265915530,
          "user_tz": -330,
          "elapsed": 1208,
          "user": {
            "displayName": "Prajwal V",
            "photoUrl": "https://lh3.googleusercontent.com/a/default-user=s128",
            "userId": "108505317259898107905"
          }
        }
      },
      "cell_type": "code",
      "source": [
        "!curl \"https://storage.googleapis.com/kaggle-competitions-data/kaggle/3316/Train.zip?GoogleAccessId=web-data@kaggle-161607.iam.gserviceaccount.com&Expires=1518525000&Signature=ANWo0YUmsz\"%\"2BkXwKEVro5H9MyQqsIgYKwIKHlZ19f4LV\"%\"2FNg1ZnFA46hy2AGTipGI\"%\"2B5JCye\"%\"2FcLRrUmQACL3H2WyL8x0EVsalNm5wbRfSJIEEs69VDQrGiTWAL0phNI2kpO3GtJUPa1lM8CMmr3ofbM6GA6yP\"%\"2BqTJPY2jbSfSDipVtKKdf11bbVRpbdfG0ltqSNangdJBJJzjLwH4pglq4yEGH\"%\"2FeQD997YoD9Z9pwt6mZZaD5OTUFUrUH7yVjaBw\"%\"2BBCye\"%\"2F3Jmpf0ZHMUi\"%\"2B5E4TfmZ53kJchtDMe\"%\"2FS4Aigdzd0fOVrDcJ7z0dTIrAw6jmE4rQi2yxZ9atm1SyQqr7yi65g\"%\"3D\"%\"3D\" -H \"Host: storage.googleapis.com\" -H \"User-Agent: Mozilla/5.0 (Windows NT 10.0; Win64; x64; rv:58.0) Gecko/20100101 Firefox/58.0\" -H \"Accept: text/html,application/xhtml+xml,application/xml;q=0.9,*/*;q=0.8\" -H \"Accept-Language: en-US,en;q=0.5\" --compressed -H \"Referer: https://www.kaggle.com/c/bluebook-for-bulldozers/data\" -H \"Connection: keep-alive\" -H \"Upgrade-Insecure-Requests: 1\" -o Train.zip"
      ],
      "execution_count": 60,
      "outputs": [
        {
          "output_type": "stream",
          "text": [
            "  % Total    % Received % Xferd  Average Speed   Time    Time     Time  Current\r\n",
            "                                 Dload  Upload   Total   Spent    Left  Speed\n",
            "100 9504k  100 9504k    0     0  9504k      0  0:00:01 --:--:--  0:00:01 48.8M\n"
          ],
          "name": "stdout"
        }
      ]
    },
    {
      "metadata": {
        "id": "QPVxqJKWs2uj",
        "colab_type": "code",
        "colab": {
          "autoexec": {
            "startup": false,
            "wait_interval": 0
          },
          "output_extras": [
            {
              "item_id": 1
            }
          ],
          "base_uri": "https://localhost:8080/",
          "height": 34
        },
        "outputId": "b7d24343-a039-46d4-f3b8-17f09a55ec05",
        "executionInfo": {
          "status": "ok",
          "timestamp": 1518265926600,
          "user_tz": -330,
          "elapsed": 965,
          "user": {
            "displayName": "Prajwal V",
            "photoUrl": "https://lh3.googleusercontent.com/a/default-user=s128",
            "userId": "108505317259898107905"
          }
        }
      },
      "cell_type": "code",
      "source": [
        "!ls"
      ],
      "execution_count": 61,
      "outputs": [
        {
          "output_type": "stream",
          "text": [
            "bulldozers.zip\tdata  datalab  Train.7z  Train.zip\r\n"
          ],
          "name": "stdout"
        }
      ]
    },
    {
      "metadata": {
        "id": "_qnHMJ_ls3-n",
        "colab_type": "code",
        "colab": {
          "autoexec": {
            "startup": false,
            "wait_interval": 0
          },
          "output_extras": [
            {
              "item_id": 2
            }
          ],
          "base_uri": "https://localhost:8080/",
          "height": 51
        },
        "outputId": "0ba9f5a2-7778-4d05-874d-da78239f74f6",
        "executionInfo": {
          "status": "ok",
          "timestamp": 1518265949941,
          "user_tz": -330,
          "elapsed": 1649,
          "user": {
            "displayName": "Prajwal V",
            "photoUrl": "https://lh3.googleusercontent.com/a/default-user=s128",
            "userId": "108505317259898107905"
          }
        }
      },
      "cell_type": "code",
      "source": [
        "!unzip Train.zip -d data/"
      ],
      "execution_count": 62,
      "outputs": [
        {
          "output_type": "stream",
          "text": [
            "Archive:  Train.zip\n",
            "  inflating: data/Train.csv          \n"
          ],
          "name": "stdout"
        }
      ]
    },
    {
      "metadata": {
        "id": "fwae_pb4s9gO",
        "colab_type": "code",
        "colab": {
          "autoexec": {
            "startup": false,
            "wait_interval": 0
          },
          "output_extras": [
            {
              "item_id": 1
            }
          ],
          "base_uri": "https://localhost:8080/",
          "height": 34
        },
        "outputId": "ffe921f5-c745-4305-b56c-367ef626ee9f",
        "executionInfo": {
          "status": "ok",
          "timestamp": 1518265962337,
          "user_tz": -330,
          "elapsed": 1177,
          "user": {
            "displayName": "Prajwal V",
            "photoUrl": "https://lh3.googleusercontent.com/a/default-user=s128",
            "userId": "108505317259898107905"
          }
        }
      },
      "cell_type": "code",
      "source": [
        "!ls data"
      ],
      "execution_count": 63,
      "outputs": [
        {
          "output_type": "stream",
          "text": [
            "Train.csv\r\n"
          ],
          "name": "stdout"
        }
      ]
    },
    {
      "metadata": {
        "id": "lS7IYu7VtAqR",
        "colab_type": "code",
        "colab": {
          "autoexec": {
            "startup": false,
            "wait_interval": 0
          }
        }
      },
      "cell_type": "code",
      "source": [
        "df_raw = pd.read_csv(f'{PATH}/Train.csv', low_memory=False, \n",
        "                     parse_dates=[\"saledate\"])"
      ],
      "execution_count": 0,
      "outputs": []
    },
    {
      "metadata": {
        "id": "m0eCdt_StVwg",
        "colab_type": "code",
        "colab": {
          "autoexec": {
            "startup": false,
            "wait_interval": 0
          }
        }
      },
      "cell_type": "code",
      "source": [
        "\n",
        "\n",
        "def display_all(df):\n",
        "    with pd.option_context(\"display.max_rows\", 1000): \n",
        "        with pd.option_context(\"display.max_columns\", 1000): \n",
        "            display(df)\n",
        "\n"
      ],
      "execution_count": 0,
      "outputs": []
    },
    {
      "metadata": {
        "id": "JYlkKJmvuYbA",
        "colab_type": "code",
        "colab": {
          "autoexec": {
            "startup": false,
            "wait_interval": 0
          },
          "output_extras": [
            {
              "item_id": 1
            }
          ],
          "base_uri": "https://localhost:8080/",
          "height": 1650
        },
        "outputId": "53cc4a46-3600-4e6f-ea71-0a83b606284b",
        "executionInfo": {
          "status": "ok",
          "timestamp": 1518266332095,
          "user_tz": -330,
          "elapsed": 808,
          "user": {
            "displayName": "Prajwal V",
            "photoUrl": "https://lh3.googleusercontent.com/a/default-user=s128",
            "userId": "108505317259898107905"
          }
        }
      },
      "cell_type": "code",
      "source": [
        "display_all(df_raw.tail().transpose())"
      ],
      "execution_count": 68,
      "outputs": [
        {
          "output_type": "display_data",
          "data": {
            "text/html": [
              "<div>\n",
              "<style scoped>\n",
              "    .dataframe tbody tr th:only-of-type {\n",
              "        vertical-align: middle;\n",
              "    }\n",
              "\n",
              "    .dataframe tbody tr th {\n",
              "        vertical-align: top;\n",
              "    }\n",
              "\n",
              "    .dataframe thead th {\n",
              "        text-align: right;\n",
              "    }\n",
              "</style>\n",
              "<table border=\"1\" class=\"dataframe\">\n",
              "  <thead>\n",
              "    <tr style=\"text-align: right;\">\n",
              "      <th></th>\n",
              "      <th>401120</th>\n",
              "      <th>401121</th>\n",
              "      <th>401122</th>\n",
              "      <th>401123</th>\n",
              "      <th>401124</th>\n",
              "    </tr>\n",
              "  </thead>\n",
              "  <tbody>\n",
              "    <tr>\n",
              "      <th>SalesID</th>\n",
              "      <td>6333336</td>\n",
              "      <td>6333337</td>\n",
              "      <td>6333338</td>\n",
              "      <td>6333341</td>\n",
              "      <td>6333342</td>\n",
              "    </tr>\n",
              "    <tr>\n",
              "      <th>SalePrice</th>\n",
              "      <td>10500</td>\n",
              "      <td>11000</td>\n",
              "      <td>11500</td>\n",
              "      <td>9000</td>\n",
              "      <td>7750</td>\n",
              "    </tr>\n",
              "    <tr>\n",
              "      <th>MachineID</th>\n",
              "      <td>1840702</td>\n",
              "      <td>1830472</td>\n",
              "      <td>1887659</td>\n",
              "      <td>1903570</td>\n",
              "      <td>1926965</td>\n",
              "    </tr>\n",
              "    <tr>\n",
              "      <th>ModelID</th>\n",
              "      <td>21439</td>\n",
              "      <td>21439</td>\n",
              "      <td>21439</td>\n",
              "      <td>21435</td>\n",
              "      <td>21435</td>\n",
              "    </tr>\n",
              "    <tr>\n",
              "      <th>datasource</th>\n",
              "      <td>149</td>\n",
              "      <td>149</td>\n",
              "      <td>149</td>\n",
              "      <td>149</td>\n",
              "      <td>149</td>\n",
              "    </tr>\n",
              "    <tr>\n",
              "      <th>auctioneerID</th>\n",
              "      <td>1</td>\n",
              "      <td>1</td>\n",
              "      <td>1</td>\n",
              "      <td>2</td>\n",
              "      <td>2</td>\n",
              "    </tr>\n",
              "    <tr>\n",
              "      <th>YearMade</th>\n",
              "      <td>2005</td>\n",
              "      <td>2005</td>\n",
              "      <td>2005</td>\n",
              "      <td>2005</td>\n",
              "      <td>2005</td>\n",
              "    </tr>\n",
              "    <tr>\n",
              "      <th>MachineHoursCurrentMeter</th>\n",
              "      <td>NaN</td>\n",
              "      <td>NaN</td>\n",
              "      <td>NaN</td>\n",
              "      <td>NaN</td>\n",
              "      <td>NaN</td>\n",
              "    </tr>\n",
              "    <tr>\n",
              "      <th>UsageBand</th>\n",
              "      <td>NaN</td>\n",
              "      <td>NaN</td>\n",
              "      <td>NaN</td>\n",
              "      <td>NaN</td>\n",
              "      <td>NaN</td>\n",
              "    </tr>\n",
              "    <tr>\n",
              "      <th>saledate</th>\n",
              "      <td>2011-11-02 00:00:00</td>\n",
              "      <td>2011-11-02 00:00:00</td>\n",
              "      <td>2011-11-02 00:00:00</td>\n",
              "      <td>2011-10-25 00:00:00</td>\n",
              "      <td>2011-10-25 00:00:00</td>\n",
              "    </tr>\n",
              "    <tr>\n",
              "      <th>fiModelDesc</th>\n",
              "      <td>35NX2</td>\n",
              "      <td>35NX2</td>\n",
              "      <td>35NX2</td>\n",
              "      <td>30NX</td>\n",
              "      <td>30NX</td>\n",
              "    </tr>\n",
              "    <tr>\n",
              "      <th>fiBaseModel</th>\n",
              "      <td>35</td>\n",
              "      <td>35</td>\n",
              "      <td>35</td>\n",
              "      <td>30</td>\n",
              "      <td>30</td>\n",
              "    </tr>\n",
              "    <tr>\n",
              "      <th>fiSecondaryDesc</th>\n",
              "      <td>NX</td>\n",
              "      <td>NX</td>\n",
              "      <td>NX</td>\n",
              "      <td>NX</td>\n",
              "      <td>NX</td>\n",
              "    </tr>\n",
              "    <tr>\n",
              "      <th>fiModelSeries</th>\n",
              "      <td>2</td>\n",
              "      <td>2</td>\n",
              "      <td>2</td>\n",
              "      <td>NaN</td>\n",
              "      <td>NaN</td>\n",
              "    </tr>\n",
              "    <tr>\n",
              "      <th>fiModelDescriptor</th>\n",
              "      <td>NaN</td>\n",
              "      <td>NaN</td>\n",
              "      <td>NaN</td>\n",
              "      <td>NaN</td>\n",
              "      <td>NaN</td>\n",
              "    </tr>\n",
              "    <tr>\n",
              "      <th>ProductSize</th>\n",
              "      <td>Mini</td>\n",
              "      <td>Mini</td>\n",
              "      <td>Mini</td>\n",
              "      <td>Mini</td>\n",
              "      <td>Mini</td>\n",
              "    </tr>\n",
              "    <tr>\n",
              "      <th>fiProductClassDesc</th>\n",
              "      <td>Hydraulic Excavator, Track - 3.0 to 4.0 Metric...</td>\n",
              "      <td>Hydraulic Excavator, Track - 3.0 to 4.0 Metric...</td>\n",
              "      <td>Hydraulic Excavator, Track - 3.0 to 4.0 Metric...</td>\n",
              "      <td>Hydraulic Excavator, Track - 2.0 to 3.0 Metric...</td>\n",
              "      <td>Hydraulic Excavator, Track - 2.0 to 3.0 Metric...</td>\n",
              "    </tr>\n",
              "    <tr>\n",
              "      <th>state</th>\n",
              "      <td>Maryland</td>\n",
              "      <td>Maryland</td>\n",
              "      <td>Maryland</td>\n",
              "      <td>Florida</td>\n",
              "      <td>Florida</td>\n",
              "    </tr>\n",
              "    <tr>\n",
              "      <th>ProductGroup</th>\n",
              "      <td>TEX</td>\n",
              "      <td>TEX</td>\n",
              "      <td>TEX</td>\n",
              "      <td>TEX</td>\n",
              "      <td>TEX</td>\n",
              "    </tr>\n",
              "    <tr>\n",
              "      <th>ProductGroupDesc</th>\n",
              "      <td>Track Excavators</td>\n",
              "      <td>Track Excavators</td>\n",
              "      <td>Track Excavators</td>\n",
              "      <td>Track Excavators</td>\n",
              "      <td>Track Excavators</td>\n",
              "    </tr>\n",
              "    <tr>\n",
              "      <th>Drive_System</th>\n",
              "      <td>NaN</td>\n",
              "      <td>NaN</td>\n",
              "      <td>NaN</td>\n",
              "      <td>NaN</td>\n",
              "      <td>NaN</td>\n",
              "    </tr>\n",
              "    <tr>\n",
              "      <th>Enclosure</th>\n",
              "      <td>EROPS</td>\n",
              "      <td>EROPS</td>\n",
              "      <td>EROPS</td>\n",
              "      <td>EROPS</td>\n",
              "      <td>EROPS</td>\n",
              "    </tr>\n",
              "    <tr>\n",
              "      <th>Forks</th>\n",
              "      <td>NaN</td>\n",
              "      <td>NaN</td>\n",
              "      <td>NaN</td>\n",
              "      <td>NaN</td>\n",
              "      <td>NaN</td>\n",
              "    </tr>\n",
              "    <tr>\n",
              "      <th>Pad_Type</th>\n",
              "      <td>NaN</td>\n",
              "      <td>NaN</td>\n",
              "      <td>NaN</td>\n",
              "      <td>NaN</td>\n",
              "      <td>NaN</td>\n",
              "    </tr>\n",
              "    <tr>\n",
              "      <th>Ride_Control</th>\n",
              "      <td>NaN</td>\n",
              "      <td>NaN</td>\n",
              "      <td>NaN</td>\n",
              "      <td>NaN</td>\n",
              "      <td>NaN</td>\n",
              "    </tr>\n",
              "    <tr>\n",
              "      <th>Stick</th>\n",
              "      <td>NaN</td>\n",
              "      <td>NaN</td>\n",
              "      <td>NaN</td>\n",
              "      <td>NaN</td>\n",
              "      <td>NaN</td>\n",
              "    </tr>\n",
              "    <tr>\n",
              "      <th>Transmission</th>\n",
              "      <td>NaN</td>\n",
              "      <td>NaN</td>\n",
              "      <td>NaN</td>\n",
              "      <td>NaN</td>\n",
              "      <td>NaN</td>\n",
              "    </tr>\n",
              "    <tr>\n",
              "      <th>Turbocharged</th>\n",
              "      <td>NaN</td>\n",
              "      <td>NaN</td>\n",
              "      <td>NaN</td>\n",
              "      <td>NaN</td>\n",
              "      <td>NaN</td>\n",
              "    </tr>\n",
              "    <tr>\n",
              "      <th>Blade_Extension</th>\n",
              "      <td>NaN</td>\n",
              "      <td>NaN</td>\n",
              "      <td>NaN</td>\n",
              "      <td>NaN</td>\n",
              "      <td>NaN</td>\n",
              "    </tr>\n",
              "    <tr>\n",
              "      <th>Blade_Width</th>\n",
              "      <td>NaN</td>\n",
              "      <td>NaN</td>\n",
              "      <td>NaN</td>\n",
              "      <td>NaN</td>\n",
              "      <td>NaN</td>\n",
              "    </tr>\n",
              "    <tr>\n",
              "      <th>Enclosure_Type</th>\n",
              "      <td>NaN</td>\n",
              "      <td>NaN</td>\n",
              "      <td>NaN</td>\n",
              "      <td>NaN</td>\n",
              "      <td>NaN</td>\n",
              "    </tr>\n",
              "    <tr>\n",
              "      <th>Engine_Horsepower</th>\n",
              "      <td>NaN</td>\n",
              "      <td>NaN</td>\n",
              "      <td>NaN</td>\n",
              "      <td>NaN</td>\n",
              "      <td>NaN</td>\n",
              "    </tr>\n",
              "    <tr>\n",
              "      <th>Hydraulics</th>\n",
              "      <td>Auxiliary</td>\n",
              "      <td>Standard</td>\n",
              "      <td>Auxiliary</td>\n",
              "      <td>Standard</td>\n",
              "      <td>Standard</td>\n",
              "    </tr>\n",
              "    <tr>\n",
              "      <th>Pushblock</th>\n",
              "      <td>NaN</td>\n",
              "      <td>NaN</td>\n",
              "      <td>NaN</td>\n",
              "      <td>NaN</td>\n",
              "      <td>NaN</td>\n",
              "    </tr>\n",
              "    <tr>\n",
              "      <th>Ripper</th>\n",
              "      <td>NaN</td>\n",
              "      <td>NaN</td>\n",
              "      <td>NaN</td>\n",
              "      <td>NaN</td>\n",
              "      <td>NaN</td>\n",
              "    </tr>\n",
              "    <tr>\n",
              "      <th>Scarifier</th>\n",
              "      <td>NaN</td>\n",
              "      <td>NaN</td>\n",
              "      <td>NaN</td>\n",
              "      <td>NaN</td>\n",
              "      <td>NaN</td>\n",
              "    </tr>\n",
              "    <tr>\n",
              "      <th>Tip_Control</th>\n",
              "      <td>NaN</td>\n",
              "      <td>NaN</td>\n",
              "      <td>NaN</td>\n",
              "      <td>NaN</td>\n",
              "      <td>NaN</td>\n",
              "    </tr>\n",
              "    <tr>\n",
              "      <th>Tire_Size</th>\n",
              "      <td>NaN</td>\n",
              "      <td>NaN</td>\n",
              "      <td>NaN</td>\n",
              "      <td>NaN</td>\n",
              "      <td>NaN</td>\n",
              "    </tr>\n",
              "    <tr>\n",
              "      <th>Coupler</th>\n",
              "      <td>None or Unspecified</td>\n",
              "      <td>None or Unspecified</td>\n",
              "      <td>None or Unspecified</td>\n",
              "      <td>None or Unspecified</td>\n",
              "      <td>None or Unspecified</td>\n",
              "    </tr>\n",
              "    <tr>\n",
              "      <th>Coupler_System</th>\n",
              "      <td>NaN</td>\n",
              "      <td>NaN</td>\n",
              "      <td>NaN</td>\n",
              "      <td>NaN</td>\n",
              "      <td>NaN</td>\n",
              "    </tr>\n",
              "    <tr>\n",
              "      <th>Grouser_Tracks</th>\n",
              "      <td>NaN</td>\n",
              "      <td>NaN</td>\n",
              "      <td>NaN</td>\n",
              "      <td>NaN</td>\n",
              "      <td>NaN</td>\n",
              "    </tr>\n",
              "    <tr>\n",
              "      <th>Hydraulics_Flow</th>\n",
              "      <td>NaN</td>\n",
              "      <td>NaN</td>\n",
              "      <td>NaN</td>\n",
              "      <td>NaN</td>\n",
              "      <td>NaN</td>\n",
              "    </tr>\n",
              "    <tr>\n",
              "      <th>Track_Type</th>\n",
              "      <td>Steel</td>\n",
              "      <td>Steel</td>\n",
              "      <td>Steel</td>\n",
              "      <td>Steel</td>\n",
              "      <td>Steel</td>\n",
              "    </tr>\n",
              "    <tr>\n",
              "      <th>Undercarriage_Pad_Width</th>\n",
              "      <td>None or Unspecified</td>\n",
              "      <td>None or Unspecified</td>\n",
              "      <td>None or Unspecified</td>\n",
              "      <td>None or Unspecified</td>\n",
              "      <td>None or Unspecified</td>\n",
              "    </tr>\n",
              "    <tr>\n",
              "      <th>Stick_Length</th>\n",
              "      <td>None or Unspecified</td>\n",
              "      <td>None or Unspecified</td>\n",
              "      <td>None or Unspecified</td>\n",
              "      <td>None or Unspecified</td>\n",
              "      <td>None or Unspecified</td>\n",
              "    </tr>\n",
              "    <tr>\n",
              "      <th>Thumb</th>\n",
              "      <td>None or Unspecified</td>\n",
              "      <td>None or Unspecified</td>\n",
              "      <td>None or Unspecified</td>\n",
              "      <td>None or Unspecified</td>\n",
              "      <td>None or Unspecified</td>\n",
              "    </tr>\n",
              "    <tr>\n",
              "      <th>Pattern_Changer</th>\n",
              "      <td>None or Unspecified</td>\n",
              "      <td>None or Unspecified</td>\n",
              "      <td>None or Unspecified</td>\n",
              "      <td>None or Unspecified</td>\n",
              "      <td>None or Unspecified</td>\n",
              "    </tr>\n",
              "    <tr>\n",
              "      <th>Grouser_Type</th>\n",
              "      <td>Double</td>\n",
              "      <td>Double</td>\n",
              "      <td>Double</td>\n",
              "      <td>Double</td>\n",
              "      <td>Double</td>\n",
              "    </tr>\n",
              "    <tr>\n",
              "      <th>Backhoe_Mounting</th>\n",
              "      <td>NaN</td>\n",
              "      <td>NaN</td>\n",
              "      <td>NaN</td>\n",
              "      <td>NaN</td>\n",
              "      <td>NaN</td>\n",
              "    </tr>\n",
              "    <tr>\n",
              "      <th>Blade_Type</th>\n",
              "      <td>NaN</td>\n",
              "      <td>NaN</td>\n",
              "      <td>NaN</td>\n",
              "      <td>NaN</td>\n",
              "      <td>NaN</td>\n",
              "    </tr>\n",
              "    <tr>\n",
              "      <th>Travel_Controls</th>\n",
              "      <td>NaN</td>\n",
              "      <td>NaN</td>\n",
              "      <td>NaN</td>\n",
              "      <td>NaN</td>\n",
              "      <td>NaN</td>\n",
              "    </tr>\n",
              "    <tr>\n",
              "      <th>Differential_Type</th>\n",
              "      <td>NaN</td>\n",
              "      <td>NaN</td>\n",
              "      <td>NaN</td>\n",
              "      <td>NaN</td>\n",
              "      <td>NaN</td>\n",
              "    </tr>\n",
              "    <tr>\n",
              "      <th>Steering_Controls</th>\n",
              "      <td>NaN</td>\n",
              "      <td>NaN</td>\n",
              "      <td>NaN</td>\n",
              "      <td>NaN</td>\n",
              "      <td>NaN</td>\n",
              "    </tr>\n",
              "  </tbody>\n",
              "</table>\n",
              "</div>"
            ],
            "text/plain": [
              "                                                                     401120  \\\n",
              "SalesID                                                             6333336   \n",
              "SalePrice                                                             10500   \n",
              "MachineID                                                           1840702   \n",
              "ModelID                                                               21439   \n",
              "datasource                                                              149   \n",
              "auctioneerID                                                              1   \n",
              "YearMade                                                               2005   \n",
              "MachineHoursCurrentMeter                                                NaN   \n",
              "UsageBand                                                               NaN   \n",
              "saledate                                                2011-11-02 00:00:00   \n",
              "fiModelDesc                                                           35NX2   \n",
              "fiBaseModel                                                              35   \n",
              "fiSecondaryDesc                                                          NX   \n",
              "fiModelSeries                                                             2   \n",
              "fiModelDescriptor                                                       NaN   \n",
              "ProductSize                                                            Mini   \n",
              "fiProductClassDesc        Hydraulic Excavator, Track - 3.0 to 4.0 Metric...   \n",
              "state                                                              Maryland   \n",
              "ProductGroup                                                            TEX   \n",
              "ProductGroupDesc                                           Track Excavators   \n",
              "Drive_System                                                            NaN   \n",
              "Enclosure                                                             EROPS   \n",
              "Forks                                                                   NaN   \n",
              "Pad_Type                                                                NaN   \n",
              "Ride_Control                                                            NaN   \n",
              "Stick                                                                   NaN   \n",
              "Transmission                                                            NaN   \n",
              "Turbocharged                                                            NaN   \n",
              "Blade_Extension                                                         NaN   \n",
              "Blade_Width                                                             NaN   \n",
              "Enclosure_Type                                                          NaN   \n",
              "Engine_Horsepower                                                       NaN   \n",
              "Hydraulics                                                        Auxiliary   \n",
              "Pushblock                                                               NaN   \n",
              "Ripper                                                                  NaN   \n",
              "Scarifier                                                               NaN   \n",
              "Tip_Control                                                             NaN   \n",
              "Tire_Size                                                               NaN   \n",
              "Coupler                                                 None or Unspecified   \n",
              "Coupler_System                                                          NaN   \n",
              "Grouser_Tracks                                                          NaN   \n",
              "Hydraulics_Flow                                                         NaN   \n",
              "Track_Type                                                            Steel   \n",
              "Undercarriage_Pad_Width                                 None or Unspecified   \n",
              "Stick_Length                                            None or Unspecified   \n",
              "Thumb                                                   None or Unspecified   \n",
              "Pattern_Changer                                         None or Unspecified   \n",
              "Grouser_Type                                                         Double   \n",
              "Backhoe_Mounting                                                        NaN   \n",
              "Blade_Type                                                              NaN   \n",
              "Travel_Controls                                                         NaN   \n",
              "Differential_Type                                                       NaN   \n",
              "Steering_Controls                                                       NaN   \n",
              "\n",
              "                                                                     401121  \\\n",
              "SalesID                                                             6333337   \n",
              "SalePrice                                                             11000   \n",
              "MachineID                                                           1830472   \n",
              "ModelID                                                               21439   \n",
              "datasource                                                              149   \n",
              "auctioneerID                                                              1   \n",
              "YearMade                                                               2005   \n",
              "MachineHoursCurrentMeter                                                NaN   \n",
              "UsageBand                                                               NaN   \n",
              "saledate                                                2011-11-02 00:00:00   \n",
              "fiModelDesc                                                           35NX2   \n",
              "fiBaseModel                                                              35   \n",
              "fiSecondaryDesc                                                          NX   \n",
              "fiModelSeries                                                             2   \n",
              "fiModelDescriptor                                                       NaN   \n",
              "ProductSize                                                            Mini   \n",
              "fiProductClassDesc        Hydraulic Excavator, Track - 3.0 to 4.0 Metric...   \n",
              "state                                                              Maryland   \n",
              "ProductGroup                                                            TEX   \n",
              "ProductGroupDesc                                           Track Excavators   \n",
              "Drive_System                                                            NaN   \n",
              "Enclosure                                                             EROPS   \n",
              "Forks                                                                   NaN   \n",
              "Pad_Type                                                                NaN   \n",
              "Ride_Control                                                            NaN   \n",
              "Stick                                                                   NaN   \n",
              "Transmission                                                            NaN   \n",
              "Turbocharged                                                            NaN   \n",
              "Blade_Extension                                                         NaN   \n",
              "Blade_Width                                                             NaN   \n",
              "Enclosure_Type                                                          NaN   \n",
              "Engine_Horsepower                                                       NaN   \n",
              "Hydraulics                                                         Standard   \n",
              "Pushblock                                                               NaN   \n",
              "Ripper                                                                  NaN   \n",
              "Scarifier                                                               NaN   \n",
              "Tip_Control                                                             NaN   \n",
              "Tire_Size                                                               NaN   \n",
              "Coupler                                                 None or Unspecified   \n",
              "Coupler_System                                                          NaN   \n",
              "Grouser_Tracks                                                          NaN   \n",
              "Hydraulics_Flow                                                         NaN   \n",
              "Track_Type                                                            Steel   \n",
              "Undercarriage_Pad_Width                                 None or Unspecified   \n",
              "Stick_Length                                            None or Unspecified   \n",
              "Thumb                                                   None or Unspecified   \n",
              "Pattern_Changer                                         None or Unspecified   \n",
              "Grouser_Type                                                         Double   \n",
              "Backhoe_Mounting                                                        NaN   \n",
              "Blade_Type                                                              NaN   \n",
              "Travel_Controls                                                         NaN   \n",
              "Differential_Type                                                       NaN   \n",
              "Steering_Controls                                                       NaN   \n",
              "\n",
              "                                                                     401122  \\\n",
              "SalesID                                                             6333338   \n",
              "SalePrice                                                             11500   \n",
              "MachineID                                                           1887659   \n",
              "ModelID                                                               21439   \n",
              "datasource                                                              149   \n",
              "auctioneerID                                                              1   \n",
              "YearMade                                                               2005   \n",
              "MachineHoursCurrentMeter                                                NaN   \n",
              "UsageBand                                                               NaN   \n",
              "saledate                                                2011-11-02 00:00:00   \n",
              "fiModelDesc                                                           35NX2   \n",
              "fiBaseModel                                                              35   \n",
              "fiSecondaryDesc                                                          NX   \n",
              "fiModelSeries                                                             2   \n",
              "fiModelDescriptor                                                       NaN   \n",
              "ProductSize                                                            Mini   \n",
              "fiProductClassDesc        Hydraulic Excavator, Track - 3.0 to 4.0 Metric...   \n",
              "state                                                              Maryland   \n",
              "ProductGroup                                                            TEX   \n",
              "ProductGroupDesc                                           Track Excavators   \n",
              "Drive_System                                                            NaN   \n",
              "Enclosure                                                             EROPS   \n",
              "Forks                                                                   NaN   \n",
              "Pad_Type                                                                NaN   \n",
              "Ride_Control                                                            NaN   \n",
              "Stick                                                                   NaN   \n",
              "Transmission                                                            NaN   \n",
              "Turbocharged                                                            NaN   \n",
              "Blade_Extension                                                         NaN   \n",
              "Blade_Width                                                             NaN   \n",
              "Enclosure_Type                                                          NaN   \n",
              "Engine_Horsepower                                                       NaN   \n",
              "Hydraulics                                                        Auxiliary   \n",
              "Pushblock                                                               NaN   \n",
              "Ripper                                                                  NaN   \n",
              "Scarifier                                                               NaN   \n",
              "Tip_Control                                                             NaN   \n",
              "Tire_Size                                                               NaN   \n",
              "Coupler                                                 None or Unspecified   \n",
              "Coupler_System                                                          NaN   \n",
              "Grouser_Tracks                                                          NaN   \n",
              "Hydraulics_Flow                                                         NaN   \n",
              "Track_Type                                                            Steel   \n",
              "Undercarriage_Pad_Width                                 None or Unspecified   \n",
              "Stick_Length                                            None or Unspecified   \n",
              "Thumb                                                   None or Unspecified   \n",
              "Pattern_Changer                                         None or Unspecified   \n",
              "Grouser_Type                                                         Double   \n",
              "Backhoe_Mounting                                                        NaN   \n",
              "Blade_Type                                                              NaN   \n",
              "Travel_Controls                                                         NaN   \n",
              "Differential_Type                                                       NaN   \n",
              "Steering_Controls                                                       NaN   \n",
              "\n",
              "                                                                     401123  \\\n",
              "SalesID                                                             6333341   \n",
              "SalePrice                                                              9000   \n",
              "MachineID                                                           1903570   \n",
              "ModelID                                                               21435   \n",
              "datasource                                                              149   \n",
              "auctioneerID                                                              2   \n",
              "YearMade                                                               2005   \n",
              "MachineHoursCurrentMeter                                                NaN   \n",
              "UsageBand                                                               NaN   \n",
              "saledate                                                2011-10-25 00:00:00   \n",
              "fiModelDesc                                                            30NX   \n",
              "fiBaseModel                                                              30   \n",
              "fiSecondaryDesc                                                          NX   \n",
              "fiModelSeries                                                           NaN   \n",
              "fiModelDescriptor                                                       NaN   \n",
              "ProductSize                                                            Mini   \n",
              "fiProductClassDesc        Hydraulic Excavator, Track - 2.0 to 3.0 Metric...   \n",
              "state                                                               Florida   \n",
              "ProductGroup                                                            TEX   \n",
              "ProductGroupDesc                                           Track Excavators   \n",
              "Drive_System                                                            NaN   \n",
              "Enclosure                                                             EROPS   \n",
              "Forks                                                                   NaN   \n",
              "Pad_Type                                                                NaN   \n",
              "Ride_Control                                                            NaN   \n",
              "Stick                                                                   NaN   \n",
              "Transmission                                                            NaN   \n",
              "Turbocharged                                                            NaN   \n",
              "Blade_Extension                                                         NaN   \n",
              "Blade_Width                                                             NaN   \n",
              "Enclosure_Type                                                          NaN   \n",
              "Engine_Horsepower                                                       NaN   \n",
              "Hydraulics                                                         Standard   \n",
              "Pushblock                                                               NaN   \n",
              "Ripper                                                                  NaN   \n",
              "Scarifier                                                               NaN   \n",
              "Tip_Control                                                             NaN   \n",
              "Tire_Size                                                               NaN   \n",
              "Coupler                                                 None or Unspecified   \n",
              "Coupler_System                                                          NaN   \n",
              "Grouser_Tracks                                                          NaN   \n",
              "Hydraulics_Flow                                                         NaN   \n",
              "Track_Type                                                            Steel   \n",
              "Undercarriage_Pad_Width                                 None or Unspecified   \n",
              "Stick_Length                                            None or Unspecified   \n",
              "Thumb                                                   None or Unspecified   \n",
              "Pattern_Changer                                         None or Unspecified   \n",
              "Grouser_Type                                                         Double   \n",
              "Backhoe_Mounting                                                        NaN   \n",
              "Blade_Type                                                              NaN   \n",
              "Travel_Controls                                                         NaN   \n",
              "Differential_Type                                                       NaN   \n",
              "Steering_Controls                                                       NaN   \n",
              "\n",
              "                                                                     401124  \n",
              "SalesID                                                             6333342  \n",
              "SalePrice                                                              7750  \n",
              "MachineID                                                           1926965  \n",
              "ModelID                                                               21435  \n",
              "datasource                                                              149  \n",
              "auctioneerID                                                              2  \n",
              "YearMade                                                               2005  \n",
              "MachineHoursCurrentMeter                                                NaN  \n",
              "UsageBand                                                               NaN  \n",
              "saledate                                                2011-10-25 00:00:00  \n",
              "fiModelDesc                                                            30NX  \n",
              "fiBaseModel                                                              30  \n",
              "fiSecondaryDesc                                                          NX  \n",
              "fiModelSeries                                                           NaN  \n",
              "fiModelDescriptor                                                       NaN  \n",
              "ProductSize                                                            Mini  \n",
              "fiProductClassDesc        Hydraulic Excavator, Track - 2.0 to 3.0 Metric...  \n",
              "state                                                               Florida  \n",
              "ProductGroup                                                            TEX  \n",
              "ProductGroupDesc                                           Track Excavators  \n",
              "Drive_System                                                            NaN  \n",
              "Enclosure                                                             EROPS  \n",
              "Forks                                                                   NaN  \n",
              "Pad_Type                                                                NaN  \n",
              "Ride_Control                                                            NaN  \n",
              "Stick                                                                   NaN  \n",
              "Transmission                                                            NaN  \n",
              "Turbocharged                                                            NaN  \n",
              "Blade_Extension                                                         NaN  \n",
              "Blade_Width                                                             NaN  \n",
              "Enclosure_Type                                                          NaN  \n",
              "Engine_Horsepower                                                       NaN  \n",
              "Hydraulics                                                         Standard  \n",
              "Pushblock                                                               NaN  \n",
              "Ripper                                                                  NaN  \n",
              "Scarifier                                                               NaN  \n",
              "Tip_Control                                                             NaN  \n",
              "Tire_Size                                                               NaN  \n",
              "Coupler                                                 None or Unspecified  \n",
              "Coupler_System                                                          NaN  \n",
              "Grouser_Tracks                                                          NaN  \n",
              "Hydraulics_Flow                                                         NaN  \n",
              "Track_Type                                                            Steel  \n",
              "Undercarriage_Pad_Width                                 None or Unspecified  \n",
              "Stick_Length                                            None or Unspecified  \n",
              "Thumb                                                   None or Unspecified  \n",
              "Pattern_Changer                                         None or Unspecified  \n",
              "Grouser_Type                                                         Double  \n",
              "Backhoe_Mounting                                                        NaN  \n",
              "Blade_Type                                                              NaN  \n",
              "Travel_Controls                                                         NaN  \n",
              "Differential_Type                                                       NaN  \n",
              "Steering_Controls                                                       NaN  "
            ]
          },
          "metadata": {
            "tags": []
          }
        }
      ]
    },
    {
      "metadata": {
        "id": "kvno-8MzubA2",
        "colab_type": "code",
        "colab": {
          "autoexec": {
            "startup": false,
            "wait_interval": 0
          }
        }
      },
      "cell_type": "code",
      "source": [
        "\n",
        "\n",
        "df_raw.SalePrice = np.log(df_raw.SalePrice)\n",
        "\n"
      ],
      "execution_count": 0,
      "outputs": []
    },
    {
      "metadata": {
        "id": "qm7Tr-dWvKnS",
        "colab_type": "code",
        "colab": {
          "autoexec": {
            "startup": false,
            "wait_interval": 0
          },
          "output_extras": [
            {
              "item_id": 1
            }
          ],
          "base_uri": "https://localhost:8080/",
          "height": 118
        },
        "outputId": "1fcea73b-a3cf-4e3c-89fe-f55642e749b0",
        "executionInfo": {
          "status": "ok",
          "timestamp": 1518266632137,
          "user_tz": -330,
          "elapsed": 961,
          "user": {
            "displayName": "Prajwal V",
            "photoUrl": "https://lh3.googleusercontent.com/a/default-user=s128",
            "userId": "108505317259898107905"
          }
        }
      },
      "cell_type": "code",
      "source": [
        "df_raw.SalePrice.head()"
      ],
      "execution_count": 72,
      "outputs": [
        {
          "output_type": "execute_result",
          "data": {
            "text/plain": [
              "0    11.097410\n",
              "1    10.950807\n",
              "2     9.210340\n",
              "3    10.558414\n",
              "4     9.305651\n",
              "Name: SalePrice, dtype: float64"
            ]
          },
          "metadata": {
            "tags": []
          },
          "execution_count": 72
        }
      ]
    },
    {
      "metadata": {
        "id": "krS7v6GVvsj-",
        "colab_type": "code",
        "colab": {
          "autoexec": {
            "startup": false,
            "wait_interval": 0
          },
          "output_extras": [
            {
              "item_id": 1
            }
          ],
          "base_uri": "https://localhost:8080/",
          "height": 118
        },
        "outputId": "bc64e964-59f5-4a7a-a687-59e98b6b0e27",
        "executionInfo": {
          "status": "ok",
          "timestamp": 1518266881745,
          "user_tz": -330,
          "elapsed": 1291,
          "user": {
            "displayName": "Prajwal V",
            "photoUrl": "https://lh3.googleusercontent.com/a/default-user=s128",
            "userId": "108505317259898107905"
          }
        }
      },
      "cell_type": "code",
      "source": [
        "add_datepart(df_raw, 'saledate')\n",
        "df_raw.saleYear.head()"
      ],
      "execution_count": 74,
      "outputs": [
        {
          "output_type": "execute_result",
          "data": {
            "text/plain": [
              "0    2006\n",
              "1    2004\n",
              "2    2004\n",
              "3    2011\n",
              "4    2009\n",
              "Name: saleYear, dtype: int64"
            ]
          },
          "metadata": {
            "tags": []
          },
          "execution_count": 74
        }
      ]
    },
    {
      "metadata": {
        "id": "KMCXmQ-uwim_",
        "colab_type": "code",
        "colab": {
          "autoexec": {
            "startup": false,
            "wait_interval": 0
          }
        }
      },
      "cell_type": "code",
      "source": [
        "train_cats(df_raw)"
      ],
      "execution_count": 0,
      "outputs": []
    },
    {
      "metadata": {
        "id": "e0AzK5n8wo4D",
        "colab_type": "code",
        "colab": {
          "autoexec": {
            "startup": false,
            "wait_interval": 0
          },
          "output_extras": [
            {
              "item_id": 1
            }
          ],
          "base_uri": "https://localhost:8080/",
          "height": 34
        },
        "outputId": "5486b35f-2918-4609-e96b-e3a9b5999035",
        "executionInfo": {
          "status": "ok",
          "timestamp": 1518266933213,
          "user_tz": -330,
          "elapsed": 1009,
          "user": {
            "displayName": "Prajwal V",
            "photoUrl": "https://lh3.googleusercontent.com/a/default-user=s128",
            "userId": "108505317259898107905"
          }
        }
      },
      "cell_type": "code",
      "source": [
        "df_raw.UsageBand.cat.categories"
      ],
      "execution_count": 76,
      "outputs": [
        {
          "output_type": "execute_result",
          "data": {
            "text/plain": [
              "Index(['High', 'Low', 'Medium'], dtype='object')"
            ]
          },
          "metadata": {
            "tags": []
          },
          "execution_count": 76
        }
      ]
    },
    {
      "metadata": {
        "id": "bCWbS1g-wtuZ",
        "colab_type": "code",
        "colab": {
          "autoexec": {
            "startup": false,
            "wait_interval": 0
          }
        }
      },
      "cell_type": "code",
      "source": [
        "df_raw.UsageBand.cat.set_categories(['High', 'Medium', 'Low'], ordered=True, inplace=True)"
      ],
      "execution_count": 0,
      "outputs": []
    },
    {
      "metadata": {
        "id": "Si7vPLOmwxYZ",
        "colab_type": "code",
        "colab": {
          "autoexec": {
            "startup": false,
            "wait_interval": 0
          }
        }
      },
      "cell_type": "code",
      "source": [
        "df_raw.UsageBand = df_raw.UsageBand.cat.codes"
      ],
      "execution_count": 0,
      "outputs": []
    },
    {
      "metadata": {
        "id": "8tk1BqUjw0k2",
        "colab_type": "code",
        "colab": {
          "autoexec": {
            "startup": false,
            "wait_interval": 0
          },
          "output_extras": [
            {
              "item_id": 1
            }
          ],
          "base_uri": "https://localhost:8080/",
          "height": 1126
        },
        "outputId": "8b1697c5-16c0-41ba-afbe-0cec63edd8cc",
        "executionInfo": {
          "status": "ok",
          "timestamp": 1518266985848,
          "user_tz": -330,
          "elapsed": 2173,
          "user": {
            "displayName": "Prajwal V",
            "photoUrl": "https://lh3.googleusercontent.com/a/default-user=s128",
            "userId": "108505317259898107905"
          }
        }
      },
      "cell_type": "code",
      "source": [
        "\n",
        "\n",
        "display_all(df_raw.isnull().sum().sort_index()/len(df_raw))\n",
        "\n"
      ],
      "execution_count": 79,
      "outputs": [
        {
          "output_type": "display_data",
          "data": {
            "text/plain": [
              "Backhoe_Mounting            0.803872\n",
              "Blade_Extension             0.937129\n",
              "Blade_Type                  0.800977\n",
              "Blade_Width                 0.937129\n",
              "Coupler                     0.466620\n",
              "Coupler_System              0.891660\n",
              "Differential_Type           0.826959\n",
              "Drive_System                0.739829\n",
              "Enclosure                   0.000810\n",
              "Enclosure_Type              0.937129\n",
              "Engine_Horsepower           0.937129\n",
              "Forks                       0.521154\n",
              "Grouser_Tracks              0.891899\n",
              "Grouser_Type                0.752813\n",
              "Hydraulics                  0.200823\n",
              "Hydraulics_Flow             0.891899\n",
              "MachineHoursCurrentMeter    0.644089\n",
              "MachineID                   0.000000\n",
              "ModelID                     0.000000\n",
              "Pad_Type                    0.802720\n",
              "Pattern_Changer             0.752651\n",
              "ProductGroup                0.000000\n",
              "ProductGroupDesc            0.000000\n",
              "ProductSize                 0.525460\n",
              "Pushblock                   0.937129\n",
              "Ride_Control                0.629527\n",
              "Ripper                      0.740388\n",
              "SalePrice                   0.000000\n",
              "SalesID                     0.000000\n",
              "Scarifier                   0.937102\n",
              "Steering_Controls           0.827064\n",
              "Stick                       0.802720\n",
              "Stick_Length                0.752651\n",
              "Thumb                       0.752476\n",
              "Tip_Control                 0.937129\n",
              "Tire_Size                   0.763869\n",
              "Track_Type                  0.752813\n",
              "Transmission                0.543210\n",
              "Travel_Controls             0.800975\n",
              "Turbocharged                0.802720\n",
              "Undercarriage_Pad_Width     0.751020\n",
              "UsageBand                   0.000000\n",
              "YearMade                    0.000000\n",
              "auctioneerID                0.050199\n",
              "datasource                  0.000000\n",
              "fiBaseModel                 0.000000\n",
              "fiModelDesc                 0.000000\n",
              "fiModelDescriptor           0.820707\n",
              "fiModelSeries               0.858129\n",
              "fiProductClassDesc          0.000000\n",
              "fiSecondaryDesc             0.342016\n",
              "saleDay                     0.000000\n",
              "saleDayofweek               0.000000\n",
              "saleDayofyear               0.000000\n",
              "saleElapsed                 0.000000\n",
              "saleIs_month_end            0.000000\n",
              "saleIs_month_start          0.000000\n",
              "saleIs_quarter_end          0.000000\n",
              "saleIs_quarter_start        0.000000\n",
              "saleIs_year_end             0.000000\n",
              "saleIs_year_start           0.000000\n",
              "saleMonth                   0.000000\n",
              "saleWeek                    0.000000\n",
              "saleYear                    0.000000\n",
              "state                       0.000000\n",
              "dtype: float64"
            ]
          },
          "metadata": {
            "tags": []
          }
        }
      ]
    },
    {
      "metadata": {
        "id": "reAW0d3uw6SS",
        "colab_type": "code",
        "colab": {
          "autoexec": {
            "startup": false,
            "wait_interval": 0
          },
          "output_extras": [
            {
              "item_id": 1
            }
          ],
          "base_uri": "https://localhost:8080/",
          "height": 1126
        },
        "outputId": "04b81a25-08e4-443a-f0c5-02edf5e88a09",
        "executionInfo": {
          "status": "ok",
          "timestamp": 1518267013425,
          "user_tz": -330,
          "elapsed": 2048,
          "user": {
            "displayName": "Prajwal V",
            "photoUrl": "https://lh3.googleusercontent.com/a/default-user=s128",
            "userId": "108505317259898107905"
          }
        }
      },
      "cell_type": "code",
      "source": [
        "\n",
        "\n",
        "display_all(df_raw.isnull().sum().sort_index()/len(df_raw))\n",
        "\n"
      ],
      "execution_count": 80,
      "outputs": [
        {
          "output_type": "display_data",
          "data": {
            "text/plain": [
              "Backhoe_Mounting            0.803872\n",
              "Blade_Extension             0.937129\n",
              "Blade_Type                  0.800977\n",
              "Blade_Width                 0.937129\n",
              "Coupler                     0.466620\n",
              "Coupler_System              0.891660\n",
              "Differential_Type           0.826959\n",
              "Drive_System                0.739829\n",
              "Enclosure                   0.000810\n",
              "Enclosure_Type              0.937129\n",
              "Engine_Horsepower           0.937129\n",
              "Forks                       0.521154\n",
              "Grouser_Tracks              0.891899\n",
              "Grouser_Type                0.752813\n",
              "Hydraulics                  0.200823\n",
              "Hydraulics_Flow             0.891899\n",
              "MachineHoursCurrentMeter    0.644089\n",
              "MachineID                   0.000000\n",
              "ModelID                     0.000000\n",
              "Pad_Type                    0.802720\n",
              "Pattern_Changer             0.752651\n",
              "ProductGroup                0.000000\n",
              "ProductGroupDesc            0.000000\n",
              "ProductSize                 0.525460\n",
              "Pushblock                   0.937129\n",
              "Ride_Control                0.629527\n",
              "Ripper                      0.740388\n",
              "SalePrice                   0.000000\n",
              "SalesID                     0.000000\n",
              "Scarifier                   0.937102\n",
              "Steering_Controls           0.827064\n",
              "Stick                       0.802720\n",
              "Stick_Length                0.752651\n",
              "Thumb                       0.752476\n",
              "Tip_Control                 0.937129\n",
              "Tire_Size                   0.763869\n",
              "Track_Type                  0.752813\n",
              "Transmission                0.543210\n",
              "Travel_Controls             0.800975\n",
              "Turbocharged                0.802720\n",
              "Undercarriage_Pad_Width     0.751020\n",
              "UsageBand                   0.000000\n",
              "YearMade                    0.000000\n",
              "auctioneerID                0.050199\n",
              "datasource                  0.000000\n",
              "fiBaseModel                 0.000000\n",
              "fiModelDesc                 0.000000\n",
              "fiModelDescriptor           0.820707\n",
              "fiModelSeries               0.858129\n",
              "fiProductClassDesc          0.000000\n",
              "fiSecondaryDesc             0.342016\n",
              "saleDay                     0.000000\n",
              "saleDayofweek               0.000000\n",
              "saleDayofyear               0.000000\n",
              "saleElapsed                 0.000000\n",
              "saleIs_month_end            0.000000\n",
              "saleIs_month_start          0.000000\n",
              "saleIs_quarter_end          0.000000\n",
              "saleIs_quarter_start        0.000000\n",
              "saleIs_year_end             0.000000\n",
              "saleIs_year_start           0.000000\n",
              "saleMonth                   0.000000\n",
              "saleWeek                    0.000000\n",
              "saleYear                    0.000000\n",
              "state                       0.000000\n",
              "dtype: float64"
            ]
          },
          "metadata": {
            "tags": []
          }
        }
      ]
    },
    {
      "metadata": {
        "id": "RSEEZIWjxBDm",
        "colab_type": "code",
        "colab": {
          "autoexec": {
            "startup": false,
            "wait_interval": 0
          }
        }
      },
      "cell_type": "code",
      "source": [
        "df, y, nas = proc_df(df_raw, 'SalePrice')"
      ],
      "execution_count": 0,
      "outputs": []
    },
    {
      "metadata": {
        "id": "9z8KR7r7xDM0",
        "colab_type": "code",
        "colab": {
          "autoexec": {
            "startup": false,
            "wait_interval": 0
          },
          "output_extras": [
            {
              "item_id": 1
            }
          ],
          "base_uri": "https://localhost:8080/",
          "height": 34
        },
        "outputId": "e2281c70-61e8-4fc2-8d51-22a739fbe720",
        "executionInfo": {
          "status": "ok",
          "timestamp": 1518267108952,
          "user_tz": -330,
          "elapsed": 53319,
          "user": {
            "displayName": "Prajwal V",
            "photoUrl": "https://lh3.googleusercontent.com/a/default-user=s128",
            "userId": "108505317259898107905"
          }
        }
      },
      "cell_type": "code",
      "source": [
        "m = RandomForestRegressor(n_jobs=-1)\n",
        "m.fit(df, y)\n",
        "m.score(df,y)"
      ],
      "execution_count": 82,
      "outputs": [
        {
          "output_type": "execute_result",
          "data": {
            "text/plain": [
              "0.983101823238019"
            ]
          },
          "metadata": {
            "tags": []
          },
          "execution_count": 82
        }
      ]
    },
    {
      "metadata": {
        "id": "KeSclZvzxL3E",
        "colab_type": "code",
        "colab": {
          "autoexec": {
            "startup": false,
            "wait_interval": 0
          },
          "output_extras": [
            {
              "item_id": 1
            }
          ],
          "base_uri": "https://localhost:8080/",
          "height": 34
        },
        "outputId": "06af91e1-1c53-4300-a5aa-ac670914c235",
        "executionInfo": {
          "status": "ok",
          "timestamp": 1518267150120,
          "user_tz": -330,
          "elapsed": 913,
          "user": {
            "displayName": "Prajwal V",
            "photoUrl": "https://lh3.googleusercontent.com/a/default-user=s128",
            "userId": "108505317259898107905"
          }
        }
      },
      "cell_type": "code",
      "source": [
        "def split_vals(a,n): return a[:n].copy(), a[n:].copy()\n",
        "\n",
        "n_valid = 12000  # same as Kaggle's test set size\n",
        "n_trn = len(df)-n_valid\n",
        "raw_train, raw_valid = split_vals(df_raw, n_trn)\n",
        "X_train, X_valid = split_vals(df, n_trn)\n",
        "y_train, y_valid = split_vals(y, n_trn)\n",
        "\n",
        "X_train.shape, y_train.shape, X_valid.shape"
      ],
      "execution_count": 83,
      "outputs": [
        {
          "output_type": "execute_result",
          "data": {
            "text/plain": [
              "((389125, 66), (389125,), (12000, 66))"
            ]
          },
          "metadata": {
            "tags": []
          },
          "execution_count": 83
        }
      ]
    },
    {
      "metadata": {
        "id": "LxH5N0D6xitM",
        "colab_type": "code",
        "colab": {
          "autoexec": {
            "startup": false,
            "wait_interval": 0
          }
        }
      },
      "cell_type": "code",
      "source": [
        "def rmse(x,y): return math.sqrt(((x-y)**2).mean())\n",
        "\n",
        "def print_score(m):\n",
        "    res = [rmse(m.predict(X_train), y_train), rmse(m.predict(X_valid), y_valid),\n",
        "                m.score(X_train, y_train), m.score(X_valid, y_valid)]\n",
        "    if hasattr(m, 'oob_score_'): res.append(m.oob_score_)\n",
        "    print(res)"
      ],
      "execution_count": 0,
      "outputs": []
    },
    {
      "metadata": {
        "id": "lnLjyL27xl0o",
        "colab_type": "code",
        "colab": {
          "autoexec": {
            "startup": false,
            "wait_interval": 0
          },
          "output_extras": [
            {
              "item_id": 2
            }
          ],
          "base_uri": "https://localhost:8080/",
          "height": 67
        },
        "outputId": "7794d73b-43a0-4f9a-b181-8a874aaa755d",
        "executionInfo": {
          "status": "ok",
          "timestamp": 1518267230061,
          "user_tz": -330,
          "elapsed": 53426,
          "user": {
            "displayName": "Prajwal V",
            "photoUrl": "https://lh3.googleusercontent.com/a/default-user=s128",
            "userId": "108505317259898107905"
          }
        }
      },
      "cell_type": "code",
      "source": [
        "m = RandomForestRegressor(n_jobs=-1)\n",
        "%time m.fit(X_train, y_train)\n",
        "print_score(m)"
      ],
      "execution_count": 85,
      "outputs": [
        {
          "output_type": "stream",
          "text": [
            "CPU times: user 1min 34s, sys: 81 ms, total: 1min 34s\n",
            "Wall time: 48.2 s\n",
            "[0.09056889477933051, 0.2511570097546879, 0.9828567577501062, 0.8873480843010189]\n"
          ],
          "name": "stdout"
        }
      ]
    },
    {
      "metadata": {
        "id": "99Nz9faaxpZn",
        "colab_type": "code",
        "colab": {
          "autoexec": {
            "startup": false,
            "wait_interval": 0
          }
        }
      },
      "cell_type": "code",
      "source": [
        ""
      ],
      "execution_count": 0,
      "outputs": []
    }
  ]
}